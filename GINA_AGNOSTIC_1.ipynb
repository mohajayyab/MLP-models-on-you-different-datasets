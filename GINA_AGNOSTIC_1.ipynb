{
  "nbformat": 4,
  "nbformat_minor": 0,
  "metadata": {
    "colab": {
      "name": "GINA AGNOSTIC-1.ipynb",
      "provenance": [],
      "collapsed_sections": []
    },
    "kernelspec": {
      "name": "python3",
      "display_name": "Python 3"
    },
    "language_info": {
      "name": "python"
    }
  },
  "cells": [
    {
      "cell_type": "markdown",
      "source": [
        "#Project Work!\n",
        "\n",
        "\n",
        "The project work is:\n",
        "\n",
        "Try different MLP models on you own dataset. You have to find a dataset than can be used during the home project. That means you have to search for a dataset in the web. \n",
        "\n",
        "You have to introduce the dataset - what is its properties and main characteristics.\n",
        "\n",
        "Also describe the problem type that is solved by using the dataset (classification or regression).\n",
        "\n",
        "Grading:\n",
        "-For grade 3 it is enough to try the next code snippet with your own dataset, describe the properties of the dataset and introduce the model performace. \n",
        "\n",
        "For greater grades please try more models and determine which model is the best according to the applied metrics.\n",
        "\n",
        "Necessary: you can use this colab notebook as a basis for your homework. Notes can be done within the notebook or in a separated document.\n",
        "\n",
        "After doing the home project, the notebook should be sent to: denes-fazakas.lehel@uni-obuda.hu\n",
        "\n",
        "If you want to use MATLAB, that is also possible - in this case, you should implement the program code from here in MATLAB. \n",
        "\n",
        "Due date: May 2, 12.00\n",
        "\n",
        "In case of any questions or if you need help - let me know via the given email address.\n",
        "\n",
        "Lehel Dénes-Fazakas"
      ],
      "metadata": {
        "id": "Au1y_VSe_vI0"
      }
    },
    {
      "cell_type": "code",
      "execution_count": 4,
      "metadata": {
        "colab": {
          "base_uri": "https://localhost:8080/"
        },
        "id": "7EsqgwCS_tSR",
        "outputId": "0ebd2633-6e9f-4a72-84b9-83cc2af20c5f"
      },
      "outputs": [
        {
          "output_type": "stream",
          "name": "stdout",
          "text": [
            "Iteration 1, loss = 14.98321983\n",
            "Iteration 2, loss = 83286.08252260\n",
            "Iteration 3, loss = 373738.35908063\n",
            "Iteration 4, loss = 714769.39847855\n",
            "Iteration 5, loss = 1034792.13287378\n",
            "Iteration 6, loss = 1306038.49813591\n",
            "Iteration 7, loss = 1523944.11752887\n",
            "Iteration 8, loss = 1693513.80803564\n",
            "Iteration 9, loss = 1822824.19443671\n",
            "Iteration 10, loss = 1920116.42508898\n",
            "Training set score: 0.510000\n",
            "Test set score: 0.508086\n",
            "Accuracy: 0.508086\n",
            "1 Precision: 0.000000\n",
            "1 Recall: 0.000000\n",
            "1 F1 score: 0.000000\n",
            "[[1508    1]\n",
            " [1459    0]]\n"
          ]
        },
        {
          "output_type": "stream",
          "name": "stderr",
          "text": [
            "/usr/local/lib/python3.7/dist-packages/sklearn/neural_network/_multilayer_perceptron.py:696: ConvergenceWarning: Stochastic Optimizer: Maximum iterations (10) reached and the optimization hasn't converged yet.\n",
            "  ConvergenceWarning,\n"
          ]
        }
      ],
      "source": [
        "import matplotlib.pyplot as plt\n",
        "from sklearn.datasets import fetch_openml\n",
        "from sklearn.neural_network import MLPClassifier\n",
        "from sklearn.metrics import accuracy_score\n",
        "from sklearn.metrics import precision_score\n",
        "from sklearn.metrics import recall_score\n",
        "from sklearn.metrics import f1_score\n",
        "from sklearn.metrics import cohen_kappa_score\n",
        "from sklearn.metrics import roc_auc_score\n",
        "from sklearn.metrics import confusion_matrix\n",
        "import numpy as np\n",
        "import pandas as pd\n",
        "\n",
        "\n",
        "#print(doc)\n",
        "\n",
        "\n",
        "\n",
        "\n",
        "X, y = fetch_openml('gina_agnostic', version=1, return_X_y=True)\n",
        "\n",
        "# rescale the data, use the traditional train/test split\n",
        "X_train, X_test = X[:500], X[500:]\n",
        "y_train, y_test = y[:500], y[500:]\n",
        "\n",
        "\n",
        "#We create a MLP network with 784 features coming from pixels and one hidden layer with dimension of 50 and an output \n",
        "# layer with 10 outputs (digits) [0,9]. Activation function is relu\n",
        "mlp = MLPClassifier(hidden_layer_sizes=(50,), max_iter=10, alpha=1e-4,\n",
        "                    solver='sgd', verbose=10,activation='relu', random_state=1,\n",
        "                    learning_rate_init=.1)\n",
        "\n",
        "\n",
        "mlp.fit(X_train, y_train)\n",
        "print(\"Training set score: %f\" % mlp.score(X_train, y_train))\n",
        "print(\"Test set score: %f\" % mlp.score(X_test, y_test))\n",
        "\n",
        "\n",
        "y_pre = mlp.predict(X_test)\n",
        "\n",
        "\n",
        "accuracy = accuracy_score(y_test, y_pre)\n",
        "print('Accuracy: %f' % accuracy)\n",
        "for i in np.unique(y_test):\n",
        "    ytest = []\n",
        "    ypre = []\n",
        "    for y in y_test:\n",
        "        if (y == i):\n",
        "            ytest.append(1)\n",
        "        else:\n",
        "            ytest.append(0)\n",
        "    for y in y_pre:\n",
        "        if (y == i):\n",
        "            ypre.append(1)\n",
        "        else:\n",
        "            ypre.append(0)\n",
        "\n",
        "\n",
        "#precision tp / (tp + fp)\n",
        "precision = precision_score(ytest, ypre)\n",
        "print(i + ' Precision: %f' % precision)\n",
        "# recall: tp / (tp + fn)\n",
        "recall = recall_score(ytest, ypre)\n",
        "print(i+' Recall: %f' % recall)\n",
        "# f1: 2 tp / (2 tp + fp + fn)\n",
        "f1 = f1_score(ytest, ypre)\n",
        "print(i + ' F1 score: %f' % f1)\n",
        "matrix = confusion_matrix(y_test, y_pre)\n",
        "print(matrix)"
      ]
    },
    {
      "cell_type": "code",
      "source": [
        ""
      ],
      "metadata": {
        "id": "FbCCZh8t_uRI"
      },
      "execution_count": null,
      "outputs": []
    }
  ]
}